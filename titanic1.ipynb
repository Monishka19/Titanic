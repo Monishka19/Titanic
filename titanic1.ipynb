{
 "cells": [
  {
   "cell_type": "code",
   "execution_count": 1,
   "id": "ad3dc824",
   "metadata": {
    "_cell_guid": "b1076dfc-b9ad-4769-8c92-a6c4dae69d19",
    "_uuid": "8f2839f25d086af736a60e9eeb907d3b93b6e0e5",
    "execution": {
     "iopub.execute_input": "2021-11-11T06:00:51.222835Z",
     "iopub.status.busy": "2021-11-11T06:00:51.221920Z",
     "iopub.status.idle": "2021-11-11T06:00:51.231480Z",
     "shell.execute_reply": "2021-11-11T06:00:51.232233Z",
     "shell.execute_reply.started": "2021-11-11T05:58:28.185280Z"
    },
    "papermill": {
     "duration": 0.066754,
     "end_time": "2021-11-11T06:00:51.232609",
     "exception": false,
     "start_time": "2021-11-11T06:00:51.165855",
     "status": "completed"
    },
    "tags": []
   },
   "outputs": [
    {
     "name": "stdout",
     "output_type": "stream",
     "text": [
      "/kaggle/input/titanic/train.csv\n",
      "/kaggle/input/titanic/test.csv\n",
      "/kaggle/input/titanic/gender_submission.csv\n"
     ]
    }
   ],
   "source": [
    "# This Python 3 environment comes with many helpful analytics libraries installed\n",
    "# It is defined by the kaggle/python Docker image: https://github.com/kaggle/docker-python\n",
    "# For example, here's several helpful packages to load\n",
    "\n",
    "import numpy as np # linear algebra\n",
    "import pandas as pd # data processing, CSV file I/O (e.g. pd.read_csv)\n",
    "\n",
    "# Input data files are available in the read-only \"../input/\" directory\n",
    "# For example, running this (by clicking run or pressing Shift+Enter) will list all files under the input directory\n",
    "\n",
    "import os\n",
    "for dirname, _, filenames in os.walk('/kaggle/input'):\n",
    "    for filename in filenames:\n",
    "        print(os.path.join(dirname, filename))\n",
    "\n",
    "# You can write up to 20GB to the current directory (/kaggle/working/) that gets preserved as output when you create a version using \"Save & Run All\" \n",
    "# You can also write temporary files to /kaggle/temp/, but they won't be saved outside of the current session"
   ]
  },
  {
   "cell_type": "code",
   "execution_count": 2,
   "id": "ade0d5e3",
   "metadata": {
    "execution": {
     "iopub.execute_input": "2021-11-11T06:00:51.329377Z",
     "iopub.status.busy": "2021-11-11T06:00:51.328692Z",
     "iopub.status.idle": "2021-11-11T06:00:52.652636Z",
     "shell.execute_reply": "2021-11-11T06:00:52.652046Z",
     "shell.execute_reply.started": "2021-11-11T05:58:28.204365Z"
    },
    "papermill": {
     "duration": 1.372937,
     "end_time": "2021-11-11T06:00:52.652771",
     "exception": false,
     "start_time": "2021-11-11T06:00:51.279834",
     "status": "completed"
    },
    "tags": []
   },
   "outputs": [],
   "source": [
    "import seaborn as sns\n",
    "%matplotlib inline\n",
    "from matplotlib import pyplot as plt\n",
    "from matplotlib import style\n",
    "\n",
    "# Algorithms\n",
    "from sklearn import linear_model\n",
    "from sklearn.linear_model import LogisticRegression\n",
    "from sklearn.ensemble import RandomForestClassifier\n",
    "from sklearn.linear_model import Perceptron\n",
    "from sklearn.linear_model import SGDClassifier\n",
    "from sklearn.neighbors import KNeighborsClassifier\n",
    "from sklearn.svm import SVC, LinearSVC\n",
    "from sklearn.naive_bayes import GaussianNB\n"
   ]
  },
  {
   "cell_type": "code",
   "execution_count": 3,
   "id": "2546f033",
   "metadata": {
    "execution": {
     "iopub.execute_input": "2021-11-11T06:00:52.748496Z",
     "iopub.status.busy": "2021-11-11T06:00:52.747857Z",
     "iopub.status.idle": "2021-11-11T06:00:52.751265Z",
     "shell.execute_reply": "2021-11-11T06:00:52.751731Z",
     "shell.execute_reply.started": "2021-11-11T05:58:28.739810Z"
    },
    "papermill": {
     "duration": 0.05291,
     "end_time": "2021-11-11T06:00:52.751888",
     "exception": false,
     "start_time": "2021-11-11T06:00:52.698978",
     "status": "completed"
    },
    "tags": []
   },
   "outputs": [],
   "source": [
    "from sklearn.metrics import accuracy_score\n",
    "from sklearn.model_selection import train_test_split\n",
    "from sklearn.tree import DecisionTreeClassifier"
   ]
  },
  {
   "cell_type": "markdown",
   "id": "af2545a2",
   "metadata": {
    "papermill": {
     "duration": 0.045463,
     "end_time": "2021-11-11T06:00:52.844158",
     "exception": false,
     "start_time": "2021-11-11T06:00:52.798695",
     "status": "completed"
    },
    "tags": []
   },
   "source": [
    "**Loading Test data set**"
   ]
  },
  {
   "cell_type": "code",
   "execution_count": 4,
   "id": "c2560c70",
   "metadata": {
    "execution": {
     "iopub.execute_input": "2021-11-11T06:00:53.000839Z",
     "iopub.status.busy": "2021-11-11T06:00:52.999754Z",
     "iopub.status.idle": "2021-11-11T06:00:53.042272Z",
     "shell.execute_reply": "2021-11-11T06:00:53.042770Z",
     "shell.execute_reply.started": "2021-11-11T05:58:28.747410Z"
    },
    "papermill": {
     "duration": 0.152242,
     "end_time": "2021-11-11T06:00:53.042949",
     "exception": false,
     "start_time": "2021-11-11T06:00:52.890707",
     "status": "completed"
    },
    "tags": []
   },
   "outputs": [
    {
     "data": {
      "text/html": [
       "<div>\n",
       "<style scoped>\n",
       "    .dataframe tbody tr th:only-of-type {\n",
       "        vertical-align: middle;\n",
       "    }\n",
       "\n",
       "    .dataframe tbody tr th {\n",
       "        vertical-align: top;\n",
       "    }\n",
       "\n",
       "    .dataframe thead th {\n",
       "        text-align: right;\n",
       "    }\n",
       "</style>\n",
       "<table border=\"1\" class=\"dataframe\">\n",
       "  <thead>\n",
       "    <tr style=\"text-align: right;\">\n",
       "      <th></th>\n",
       "      <th>PassengerId</th>\n",
       "      <th>Survived</th>\n",
       "      <th>Pclass</th>\n",
       "      <th>Name</th>\n",
       "      <th>Sex</th>\n",
       "      <th>Age</th>\n",
       "      <th>SibSp</th>\n",
       "      <th>Parch</th>\n",
       "      <th>Ticket</th>\n",
       "      <th>Fare</th>\n",
       "      <th>Cabin</th>\n",
       "      <th>Embarked</th>\n",
       "    </tr>\n",
       "  </thead>\n",
       "  <tbody>\n",
       "    <tr>\n",
       "      <th>0</th>\n",
       "      <td>1</td>\n",
       "      <td>0</td>\n",
       "      <td>3</td>\n",
       "      <td>Braund, Mr. Owen Harris</td>\n",
       "      <td>male</td>\n",
       "      <td>22.0</td>\n",
       "      <td>1</td>\n",
       "      <td>0</td>\n",
       "      <td>A/5 21171</td>\n",
       "      <td>7.2500</td>\n",
       "      <td>NaN</td>\n",
       "      <td>S</td>\n",
       "    </tr>\n",
       "    <tr>\n",
       "      <th>1</th>\n",
       "      <td>2</td>\n",
       "      <td>1</td>\n",
       "      <td>1</td>\n",
       "      <td>Cumings, Mrs. John Bradley (Florence Briggs Th...</td>\n",
       "      <td>female</td>\n",
       "      <td>38.0</td>\n",
       "      <td>1</td>\n",
       "      <td>0</td>\n",
       "      <td>PC 17599</td>\n",
       "      <td>71.2833</td>\n",
       "      <td>C85</td>\n",
       "      <td>C</td>\n",
       "    </tr>\n",
       "    <tr>\n",
       "      <th>2</th>\n",
       "      <td>3</td>\n",
       "      <td>1</td>\n",
       "      <td>3</td>\n",
       "      <td>Heikkinen, Miss. Laina</td>\n",
       "      <td>female</td>\n",
       "      <td>26.0</td>\n",
       "      <td>0</td>\n",
       "      <td>0</td>\n",
       "      <td>STON/O2. 3101282</td>\n",
       "      <td>7.9250</td>\n",
       "      <td>NaN</td>\n",
       "      <td>S</td>\n",
       "    </tr>\n",
       "    <tr>\n",
       "      <th>3</th>\n",
       "      <td>4</td>\n",
       "      <td>1</td>\n",
       "      <td>1</td>\n",
       "      <td>Futrelle, Mrs. Jacques Heath (Lily May Peel)</td>\n",
       "      <td>female</td>\n",
       "      <td>35.0</td>\n",
       "      <td>1</td>\n",
       "      <td>0</td>\n",
       "      <td>113803</td>\n",
       "      <td>53.1000</td>\n",
       "      <td>C123</td>\n",
       "      <td>S</td>\n",
       "    </tr>\n",
       "    <tr>\n",
       "      <th>4</th>\n",
       "      <td>5</td>\n",
       "      <td>0</td>\n",
       "      <td>3</td>\n",
       "      <td>Allen, Mr. William Henry</td>\n",
       "      <td>male</td>\n",
       "      <td>35.0</td>\n",
       "      <td>0</td>\n",
       "      <td>0</td>\n",
       "      <td>373450</td>\n",
       "      <td>8.0500</td>\n",
       "      <td>NaN</td>\n",
       "      <td>S</td>\n",
       "    </tr>\n",
       "  </tbody>\n",
       "</table>\n",
       "</div>"
      ],
      "text/plain": [
       "   PassengerId  Survived  Pclass  \\\n",
       "0            1         0       3   \n",
       "1            2         1       1   \n",
       "2            3         1       3   \n",
       "3            4         1       1   \n",
       "4            5         0       3   \n",
       "\n",
       "                                                Name     Sex   Age  SibSp  \\\n",
       "0                            Braund, Mr. Owen Harris    male  22.0      1   \n",
       "1  Cumings, Mrs. John Bradley (Florence Briggs Th...  female  38.0      1   \n",
       "2                             Heikkinen, Miss. Laina  female  26.0      0   \n",
       "3       Futrelle, Mrs. Jacques Heath (Lily May Peel)  female  35.0      1   \n",
       "4                           Allen, Mr. William Henry    male  35.0      0   \n",
       "\n",
       "   Parch            Ticket     Fare Cabin Embarked  \n",
       "0      0         A/5 21171   7.2500   NaN        S  \n",
       "1      0          PC 17599  71.2833   C85        C  \n",
       "2      0  STON/O2. 3101282   7.9250   NaN        S  \n",
       "3      0            113803  53.1000  C123        S  \n",
       "4      0            373450   8.0500   NaN        S  "
      ]
     },
     "execution_count": 4,
     "metadata": {},
     "output_type": "execute_result"
    }
   ],
   "source": [
    "train_data = pd.read_csv(\"/kaggle/input/titanic/train.csv\")\n",
    "train_data.head()"
   ]
  },
  {
   "cell_type": "code",
   "execution_count": 5,
   "id": "9bc5c3bb",
   "metadata": {
    "execution": {
     "iopub.execute_input": "2021-11-11T06:00:53.142239Z",
     "iopub.status.busy": "2021-11-11T06:00:53.141530Z",
     "iopub.status.idle": "2021-11-11T06:00:53.163426Z",
     "shell.execute_reply": "2021-11-11T06:00:53.164013Z",
     "shell.execute_reply.started": "2021-11-11T05:58:28.780230Z"
    },
    "papermill": {
     "duration": 0.073808,
     "end_time": "2021-11-11T06:00:53.164209",
     "exception": false,
     "start_time": "2021-11-11T06:00:53.090401",
     "status": "completed"
    },
    "tags": []
   },
   "outputs": [
    {
     "data": {
      "text/html": [
       "<div>\n",
       "<style scoped>\n",
       "    .dataframe tbody tr th:only-of-type {\n",
       "        vertical-align: middle;\n",
       "    }\n",
       "\n",
       "    .dataframe tbody tr th {\n",
       "        vertical-align: top;\n",
       "    }\n",
       "\n",
       "    .dataframe thead th {\n",
       "        text-align: right;\n",
       "    }\n",
       "</style>\n",
       "<table border=\"1\" class=\"dataframe\">\n",
       "  <thead>\n",
       "    <tr style=\"text-align: right;\">\n",
       "      <th></th>\n",
       "      <th>PassengerId</th>\n",
       "      <th>Pclass</th>\n",
       "      <th>Name</th>\n",
       "      <th>Sex</th>\n",
       "      <th>Age</th>\n",
       "      <th>SibSp</th>\n",
       "      <th>Parch</th>\n",
       "      <th>Ticket</th>\n",
       "      <th>Fare</th>\n",
       "      <th>Cabin</th>\n",
       "      <th>Embarked</th>\n",
       "    </tr>\n",
       "  </thead>\n",
       "  <tbody>\n",
       "    <tr>\n",
       "      <th>0</th>\n",
       "      <td>892</td>\n",
       "      <td>3</td>\n",
       "      <td>Kelly, Mr. James</td>\n",
       "      <td>male</td>\n",
       "      <td>34.5</td>\n",
       "      <td>0</td>\n",
       "      <td>0</td>\n",
       "      <td>330911</td>\n",
       "      <td>7.8292</td>\n",
       "      <td>NaN</td>\n",
       "      <td>Q</td>\n",
       "    </tr>\n",
       "    <tr>\n",
       "      <th>1</th>\n",
       "      <td>893</td>\n",
       "      <td>3</td>\n",
       "      <td>Wilkes, Mrs. James (Ellen Needs)</td>\n",
       "      <td>female</td>\n",
       "      <td>47.0</td>\n",
       "      <td>1</td>\n",
       "      <td>0</td>\n",
       "      <td>363272</td>\n",
       "      <td>7.0000</td>\n",
       "      <td>NaN</td>\n",
       "      <td>S</td>\n",
       "    </tr>\n",
       "    <tr>\n",
       "      <th>2</th>\n",
       "      <td>894</td>\n",
       "      <td>2</td>\n",
       "      <td>Myles, Mr. Thomas Francis</td>\n",
       "      <td>male</td>\n",
       "      <td>62.0</td>\n",
       "      <td>0</td>\n",
       "      <td>0</td>\n",
       "      <td>240276</td>\n",
       "      <td>9.6875</td>\n",
       "      <td>NaN</td>\n",
       "      <td>Q</td>\n",
       "    </tr>\n",
       "    <tr>\n",
       "      <th>3</th>\n",
       "      <td>895</td>\n",
       "      <td>3</td>\n",
       "      <td>Wirz, Mr. Albert</td>\n",
       "      <td>male</td>\n",
       "      <td>27.0</td>\n",
       "      <td>0</td>\n",
       "      <td>0</td>\n",
       "      <td>315154</td>\n",
       "      <td>8.6625</td>\n",
       "      <td>NaN</td>\n",
       "      <td>S</td>\n",
       "    </tr>\n",
       "    <tr>\n",
       "      <th>4</th>\n",
       "      <td>896</td>\n",
       "      <td>3</td>\n",
       "      <td>Hirvonen, Mrs. Alexander (Helga E Lindqvist)</td>\n",
       "      <td>female</td>\n",
       "      <td>22.0</td>\n",
       "      <td>1</td>\n",
       "      <td>1</td>\n",
       "      <td>3101298</td>\n",
       "      <td>12.2875</td>\n",
       "      <td>NaN</td>\n",
       "      <td>S</td>\n",
       "    </tr>\n",
       "  </tbody>\n",
       "</table>\n",
       "</div>"
      ],
      "text/plain": [
       "   PassengerId  Pclass                                          Name     Sex  \\\n",
       "0          892       3                              Kelly, Mr. James    male   \n",
       "1          893       3              Wilkes, Mrs. James (Ellen Needs)  female   \n",
       "2          894       2                     Myles, Mr. Thomas Francis    male   \n",
       "3          895       3                              Wirz, Mr. Albert    male   \n",
       "4          896       3  Hirvonen, Mrs. Alexander (Helga E Lindqvist)  female   \n",
       "\n",
       "    Age  SibSp  Parch   Ticket     Fare Cabin Embarked  \n",
       "0  34.5      0      0   330911   7.8292   NaN        Q  \n",
       "1  47.0      1      0   363272   7.0000   NaN        S  \n",
       "2  62.0      0      0   240276   9.6875   NaN        Q  \n",
       "3  27.0      0      0   315154   8.6625   NaN        S  \n",
       "4  22.0      1      1  3101298  12.2875   NaN        S  "
      ]
     },
     "execution_count": 5,
     "metadata": {},
     "output_type": "execute_result"
    }
   ],
   "source": [
    "test_data = pd.read_csv(\"/kaggle/input/titanic/test.csv\")\n",
    "test_data.head()"
   ]
  },
  {
   "cell_type": "markdown",
   "id": "92207f4a",
   "metadata": {
    "papermill": {
     "duration": 0.04702,
     "end_time": "2021-11-11T06:00:53.259517",
     "exception": false,
     "start_time": "2021-11-11T06:00:53.212497",
     "status": "completed"
    },
    "tags": []
   },
   "source": [
    "**Viewing test and train data sets**"
   ]
  },
  {
   "cell_type": "code",
   "execution_count": 6,
   "id": "2f4e46d4",
   "metadata": {
    "execution": {
     "iopub.execute_input": "2021-11-11T06:00:53.380029Z",
     "iopub.status.busy": "2021-11-11T06:00:53.357252Z",
     "iopub.status.idle": "2021-11-11T06:00:53.382642Z",
     "shell.execute_reply": "2021-11-11T06:00:53.383162Z",
     "shell.execute_reply.started": "2021-11-11T05:58:28.803166Z"
    },
    "papermill": {
     "duration": 0.076958,
     "end_time": "2021-11-11T06:00:53.383351",
     "exception": false,
     "start_time": "2021-11-11T06:00:53.306393",
     "status": "completed"
    },
    "tags": []
   },
   "outputs": [
    {
     "data": {
      "text/html": [
       "<div>\n",
       "<style scoped>\n",
       "    .dataframe tbody tr th:only-of-type {\n",
       "        vertical-align: middle;\n",
       "    }\n",
       "\n",
       "    .dataframe tbody tr th {\n",
       "        vertical-align: top;\n",
       "    }\n",
       "\n",
       "    .dataframe thead th {\n",
       "        text-align: right;\n",
       "    }\n",
       "</style>\n",
       "<table border=\"1\" class=\"dataframe\">\n",
       "  <thead>\n",
       "    <tr style=\"text-align: right;\">\n",
       "      <th></th>\n",
       "      <th>PassengerId</th>\n",
       "      <th>Pclass</th>\n",
       "      <th>Name</th>\n",
       "      <th>Sex</th>\n",
       "      <th>Age</th>\n",
       "      <th>SibSp</th>\n",
       "      <th>Parch</th>\n",
       "      <th>Ticket</th>\n",
       "      <th>Fare</th>\n",
       "      <th>Cabin</th>\n",
       "      <th>Embarked</th>\n",
       "    </tr>\n",
       "  </thead>\n",
       "  <tbody>\n",
       "    <tr>\n",
       "      <th>0</th>\n",
       "      <td>892</td>\n",
       "      <td>3</td>\n",
       "      <td>Kelly, Mr. James</td>\n",
       "      <td>male</td>\n",
       "      <td>34.5</td>\n",
       "      <td>0</td>\n",
       "      <td>0</td>\n",
       "      <td>330911</td>\n",
       "      <td>7.8292</td>\n",
       "      <td>NaN</td>\n",
       "      <td>Q</td>\n",
       "    </tr>\n",
       "    <tr>\n",
       "      <th>1</th>\n",
       "      <td>893</td>\n",
       "      <td>3</td>\n",
       "      <td>Wilkes, Mrs. James (Ellen Needs)</td>\n",
       "      <td>female</td>\n",
       "      <td>47.0</td>\n",
       "      <td>1</td>\n",
       "      <td>0</td>\n",
       "      <td>363272</td>\n",
       "      <td>7.0000</td>\n",
       "      <td>NaN</td>\n",
       "      <td>S</td>\n",
       "    </tr>\n",
       "    <tr>\n",
       "      <th>2</th>\n",
       "      <td>894</td>\n",
       "      <td>2</td>\n",
       "      <td>Myles, Mr. Thomas Francis</td>\n",
       "      <td>male</td>\n",
       "      <td>62.0</td>\n",
       "      <td>0</td>\n",
       "      <td>0</td>\n",
       "      <td>240276</td>\n",
       "      <td>9.6875</td>\n",
       "      <td>NaN</td>\n",
       "      <td>Q</td>\n",
       "    </tr>\n",
       "    <tr>\n",
       "      <th>3</th>\n",
       "      <td>895</td>\n",
       "      <td>3</td>\n",
       "      <td>Wirz, Mr. Albert</td>\n",
       "      <td>male</td>\n",
       "      <td>27.0</td>\n",
       "      <td>0</td>\n",
       "      <td>0</td>\n",
       "      <td>315154</td>\n",
       "      <td>8.6625</td>\n",
       "      <td>NaN</td>\n",
       "      <td>S</td>\n",
       "    </tr>\n",
       "    <tr>\n",
       "      <th>4</th>\n",
       "      <td>896</td>\n",
       "      <td>3</td>\n",
       "      <td>Hirvonen, Mrs. Alexander (Helga E Lindqvist)</td>\n",
       "      <td>female</td>\n",
       "      <td>22.0</td>\n",
       "      <td>1</td>\n",
       "      <td>1</td>\n",
       "      <td>3101298</td>\n",
       "      <td>12.2875</td>\n",
       "      <td>NaN</td>\n",
       "      <td>S</td>\n",
       "    </tr>\n",
       "    <tr>\n",
       "      <th>...</th>\n",
       "      <td>...</td>\n",
       "      <td>...</td>\n",
       "      <td>...</td>\n",
       "      <td>...</td>\n",
       "      <td>...</td>\n",
       "      <td>...</td>\n",
       "      <td>...</td>\n",
       "      <td>...</td>\n",
       "      <td>...</td>\n",
       "      <td>...</td>\n",
       "      <td>...</td>\n",
       "    </tr>\n",
       "    <tr>\n",
       "      <th>413</th>\n",
       "      <td>1305</td>\n",
       "      <td>3</td>\n",
       "      <td>Spector, Mr. Woolf</td>\n",
       "      <td>male</td>\n",
       "      <td>NaN</td>\n",
       "      <td>0</td>\n",
       "      <td>0</td>\n",
       "      <td>A.5. 3236</td>\n",
       "      <td>8.0500</td>\n",
       "      <td>NaN</td>\n",
       "      <td>S</td>\n",
       "    </tr>\n",
       "    <tr>\n",
       "      <th>414</th>\n",
       "      <td>1306</td>\n",
       "      <td>1</td>\n",
       "      <td>Oliva y Ocana, Dona. Fermina</td>\n",
       "      <td>female</td>\n",
       "      <td>39.0</td>\n",
       "      <td>0</td>\n",
       "      <td>0</td>\n",
       "      <td>PC 17758</td>\n",
       "      <td>108.9000</td>\n",
       "      <td>C105</td>\n",
       "      <td>C</td>\n",
       "    </tr>\n",
       "    <tr>\n",
       "      <th>415</th>\n",
       "      <td>1307</td>\n",
       "      <td>3</td>\n",
       "      <td>Saether, Mr. Simon Sivertsen</td>\n",
       "      <td>male</td>\n",
       "      <td>38.5</td>\n",
       "      <td>0</td>\n",
       "      <td>0</td>\n",
       "      <td>SOTON/O.Q. 3101262</td>\n",
       "      <td>7.2500</td>\n",
       "      <td>NaN</td>\n",
       "      <td>S</td>\n",
       "    </tr>\n",
       "    <tr>\n",
       "      <th>416</th>\n",
       "      <td>1308</td>\n",
       "      <td>3</td>\n",
       "      <td>Ware, Mr. Frederick</td>\n",
       "      <td>male</td>\n",
       "      <td>NaN</td>\n",
       "      <td>0</td>\n",
       "      <td>0</td>\n",
       "      <td>359309</td>\n",
       "      <td>8.0500</td>\n",
       "      <td>NaN</td>\n",
       "      <td>S</td>\n",
       "    </tr>\n",
       "    <tr>\n",
       "      <th>417</th>\n",
       "      <td>1309</td>\n",
       "      <td>3</td>\n",
       "      <td>Peter, Master. Michael J</td>\n",
       "      <td>male</td>\n",
       "      <td>NaN</td>\n",
       "      <td>1</td>\n",
       "      <td>1</td>\n",
       "      <td>2668</td>\n",
       "      <td>22.3583</td>\n",
       "      <td>NaN</td>\n",
       "      <td>C</td>\n",
       "    </tr>\n",
       "  </tbody>\n",
       "</table>\n",
       "<p>418 rows × 11 columns</p>\n",
       "</div>"
      ],
      "text/plain": [
       "     PassengerId  Pclass                                          Name  \\\n",
       "0            892       3                              Kelly, Mr. James   \n",
       "1            893       3              Wilkes, Mrs. James (Ellen Needs)   \n",
       "2            894       2                     Myles, Mr. Thomas Francis   \n",
       "3            895       3                              Wirz, Mr. Albert   \n",
       "4            896       3  Hirvonen, Mrs. Alexander (Helga E Lindqvist)   \n",
       "..           ...     ...                                           ...   \n",
       "413         1305       3                            Spector, Mr. Woolf   \n",
       "414         1306       1                  Oliva y Ocana, Dona. Fermina   \n",
       "415         1307       3                  Saether, Mr. Simon Sivertsen   \n",
       "416         1308       3                           Ware, Mr. Frederick   \n",
       "417         1309       3                      Peter, Master. Michael J   \n",
       "\n",
       "        Sex   Age  SibSp  Parch              Ticket      Fare Cabin Embarked  \n",
       "0      male  34.5      0      0              330911    7.8292   NaN        Q  \n",
       "1    female  47.0      1      0              363272    7.0000   NaN        S  \n",
       "2      male  62.0      0      0              240276    9.6875   NaN        Q  \n",
       "3      male  27.0      0      0              315154    8.6625   NaN        S  \n",
       "4    female  22.0      1      1             3101298   12.2875   NaN        S  \n",
       "..      ...   ...    ...    ...                 ...       ...   ...      ...  \n",
       "413    male   NaN      0      0           A.5. 3236    8.0500   NaN        S  \n",
       "414  female  39.0      0      0            PC 17758  108.9000  C105        C  \n",
       "415    male  38.5      0      0  SOTON/O.Q. 3101262    7.2500   NaN        S  \n",
       "416    male   NaN      0      0              359309    8.0500   NaN        S  \n",
       "417    male   NaN      1      1                2668   22.3583   NaN        C  \n",
       "\n",
       "[418 rows x 11 columns]"
      ]
     },
     "execution_count": 6,
     "metadata": {},
     "output_type": "execute_result"
    }
   ],
   "source": [
    "test_data"
   ]
  },
  {
   "cell_type": "code",
   "execution_count": 7,
   "id": "97956225",
   "metadata": {
    "execution": {
     "iopub.execute_input": "2021-11-11T06:00:53.485411Z",
     "iopub.status.busy": "2021-11-11T06:00:53.483369Z",
     "iopub.status.idle": "2021-11-11T06:00:53.504126Z",
     "shell.execute_reply": "2021-11-11T06:00:53.504684Z",
     "shell.execute_reply.started": "2021-11-11T05:58:28.827580Z"
    },
    "papermill": {
     "duration": 0.072885,
     "end_time": "2021-11-11T06:00:53.504854",
     "exception": false,
     "start_time": "2021-11-11T06:00:53.431969",
     "status": "completed"
    },
    "tags": []
   },
   "outputs": [
    {
     "data": {
      "text/html": [
       "<div>\n",
       "<style scoped>\n",
       "    .dataframe tbody tr th:only-of-type {\n",
       "        vertical-align: middle;\n",
       "    }\n",
       "\n",
       "    .dataframe tbody tr th {\n",
       "        vertical-align: top;\n",
       "    }\n",
       "\n",
       "    .dataframe thead th {\n",
       "        text-align: right;\n",
       "    }\n",
       "</style>\n",
       "<table border=\"1\" class=\"dataframe\">\n",
       "  <thead>\n",
       "    <tr style=\"text-align: right;\">\n",
       "      <th></th>\n",
       "      <th>PassengerId</th>\n",
       "      <th>Survived</th>\n",
       "      <th>Pclass</th>\n",
       "      <th>Name</th>\n",
       "      <th>Sex</th>\n",
       "      <th>Age</th>\n",
       "      <th>SibSp</th>\n",
       "      <th>Parch</th>\n",
       "      <th>Ticket</th>\n",
       "      <th>Fare</th>\n",
       "      <th>Cabin</th>\n",
       "      <th>Embarked</th>\n",
       "    </tr>\n",
       "  </thead>\n",
       "  <tbody>\n",
       "    <tr>\n",
       "      <th>0</th>\n",
       "      <td>1</td>\n",
       "      <td>0</td>\n",
       "      <td>3</td>\n",
       "      <td>Braund, Mr. Owen Harris</td>\n",
       "      <td>male</td>\n",
       "      <td>22.0</td>\n",
       "      <td>1</td>\n",
       "      <td>0</td>\n",
       "      <td>A/5 21171</td>\n",
       "      <td>7.2500</td>\n",
       "      <td>NaN</td>\n",
       "      <td>S</td>\n",
       "    </tr>\n",
       "    <tr>\n",
       "      <th>1</th>\n",
       "      <td>2</td>\n",
       "      <td>1</td>\n",
       "      <td>1</td>\n",
       "      <td>Cumings, Mrs. John Bradley (Florence Briggs Th...</td>\n",
       "      <td>female</td>\n",
       "      <td>38.0</td>\n",
       "      <td>1</td>\n",
       "      <td>0</td>\n",
       "      <td>PC 17599</td>\n",
       "      <td>71.2833</td>\n",
       "      <td>C85</td>\n",
       "      <td>C</td>\n",
       "    </tr>\n",
       "    <tr>\n",
       "      <th>2</th>\n",
       "      <td>3</td>\n",
       "      <td>1</td>\n",
       "      <td>3</td>\n",
       "      <td>Heikkinen, Miss. Laina</td>\n",
       "      <td>female</td>\n",
       "      <td>26.0</td>\n",
       "      <td>0</td>\n",
       "      <td>0</td>\n",
       "      <td>STON/O2. 3101282</td>\n",
       "      <td>7.9250</td>\n",
       "      <td>NaN</td>\n",
       "      <td>S</td>\n",
       "    </tr>\n",
       "    <tr>\n",
       "      <th>3</th>\n",
       "      <td>4</td>\n",
       "      <td>1</td>\n",
       "      <td>1</td>\n",
       "      <td>Futrelle, Mrs. Jacques Heath (Lily May Peel)</td>\n",
       "      <td>female</td>\n",
       "      <td>35.0</td>\n",
       "      <td>1</td>\n",
       "      <td>0</td>\n",
       "      <td>113803</td>\n",
       "      <td>53.1000</td>\n",
       "      <td>C123</td>\n",
       "      <td>S</td>\n",
       "    </tr>\n",
       "    <tr>\n",
       "      <th>4</th>\n",
       "      <td>5</td>\n",
       "      <td>0</td>\n",
       "      <td>3</td>\n",
       "      <td>Allen, Mr. William Henry</td>\n",
       "      <td>male</td>\n",
       "      <td>35.0</td>\n",
       "      <td>0</td>\n",
       "      <td>0</td>\n",
       "      <td>373450</td>\n",
       "      <td>8.0500</td>\n",
       "      <td>NaN</td>\n",
       "      <td>S</td>\n",
       "    </tr>\n",
       "    <tr>\n",
       "      <th>...</th>\n",
       "      <td>...</td>\n",
       "      <td>...</td>\n",
       "      <td>...</td>\n",
       "      <td>...</td>\n",
       "      <td>...</td>\n",
       "      <td>...</td>\n",
       "      <td>...</td>\n",
       "      <td>...</td>\n",
       "      <td>...</td>\n",
       "      <td>...</td>\n",
       "      <td>...</td>\n",
       "      <td>...</td>\n",
       "    </tr>\n",
       "    <tr>\n",
       "      <th>886</th>\n",
       "      <td>887</td>\n",
       "      <td>0</td>\n",
       "      <td>2</td>\n",
       "      <td>Montvila, Rev. Juozas</td>\n",
       "      <td>male</td>\n",
       "      <td>27.0</td>\n",
       "      <td>0</td>\n",
       "      <td>0</td>\n",
       "      <td>211536</td>\n",
       "      <td>13.0000</td>\n",
       "      <td>NaN</td>\n",
       "      <td>S</td>\n",
       "    </tr>\n",
       "    <tr>\n",
       "      <th>887</th>\n",
       "      <td>888</td>\n",
       "      <td>1</td>\n",
       "      <td>1</td>\n",
       "      <td>Graham, Miss. Margaret Edith</td>\n",
       "      <td>female</td>\n",
       "      <td>19.0</td>\n",
       "      <td>0</td>\n",
       "      <td>0</td>\n",
       "      <td>112053</td>\n",
       "      <td>30.0000</td>\n",
       "      <td>B42</td>\n",
       "      <td>S</td>\n",
       "    </tr>\n",
       "    <tr>\n",
       "      <th>888</th>\n",
       "      <td>889</td>\n",
       "      <td>0</td>\n",
       "      <td>3</td>\n",
       "      <td>Johnston, Miss. Catherine Helen \"Carrie\"</td>\n",
       "      <td>female</td>\n",
       "      <td>NaN</td>\n",
       "      <td>1</td>\n",
       "      <td>2</td>\n",
       "      <td>W./C. 6607</td>\n",
       "      <td>23.4500</td>\n",
       "      <td>NaN</td>\n",
       "      <td>S</td>\n",
       "    </tr>\n",
       "    <tr>\n",
       "      <th>889</th>\n",
       "      <td>890</td>\n",
       "      <td>1</td>\n",
       "      <td>1</td>\n",
       "      <td>Behr, Mr. Karl Howell</td>\n",
       "      <td>male</td>\n",
       "      <td>26.0</td>\n",
       "      <td>0</td>\n",
       "      <td>0</td>\n",
       "      <td>111369</td>\n",
       "      <td>30.0000</td>\n",
       "      <td>C148</td>\n",
       "      <td>C</td>\n",
       "    </tr>\n",
       "    <tr>\n",
       "      <th>890</th>\n",
       "      <td>891</td>\n",
       "      <td>0</td>\n",
       "      <td>3</td>\n",
       "      <td>Dooley, Mr. Patrick</td>\n",
       "      <td>male</td>\n",
       "      <td>32.0</td>\n",
       "      <td>0</td>\n",
       "      <td>0</td>\n",
       "      <td>370376</td>\n",
       "      <td>7.7500</td>\n",
       "      <td>NaN</td>\n",
       "      <td>Q</td>\n",
       "    </tr>\n",
       "  </tbody>\n",
       "</table>\n",
       "<p>891 rows × 12 columns</p>\n",
       "</div>"
      ],
      "text/plain": [
       "     PassengerId  Survived  Pclass  \\\n",
       "0              1         0       3   \n",
       "1              2         1       1   \n",
       "2              3         1       3   \n",
       "3              4         1       1   \n",
       "4              5         0       3   \n",
       "..           ...       ...     ...   \n",
       "886          887         0       2   \n",
       "887          888         1       1   \n",
       "888          889         0       3   \n",
       "889          890         1       1   \n",
       "890          891         0       3   \n",
       "\n",
       "                                                  Name     Sex   Age  SibSp  \\\n",
       "0                              Braund, Mr. Owen Harris    male  22.0      1   \n",
       "1    Cumings, Mrs. John Bradley (Florence Briggs Th...  female  38.0      1   \n",
       "2                               Heikkinen, Miss. Laina  female  26.0      0   \n",
       "3         Futrelle, Mrs. Jacques Heath (Lily May Peel)  female  35.0      1   \n",
       "4                             Allen, Mr. William Henry    male  35.0      0   \n",
       "..                                                 ...     ...   ...    ...   \n",
       "886                              Montvila, Rev. Juozas    male  27.0      0   \n",
       "887                       Graham, Miss. Margaret Edith  female  19.0      0   \n",
       "888           Johnston, Miss. Catherine Helen \"Carrie\"  female   NaN      1   \n",
       "889                              Behr, Mr. Karl Howell    male  26.0      0   \n",
       "890                                Dooley, Mr. Patrick    male  32.0      0   \n",
       "\n",
       "     Parch            Ticket     Fare Cabin Embarked  \n",
       "0        0         A/5 21171   7.2500   NaN        S  \n",
       "1        0          PC 17599  71.2833   C85        C  \n",
       "2        0  STON/O2. 3101282   7.9250   NaN        S  \n",
       "3        0            113803  53.1000  C123        S  \n",
       "4        0            373450   8.0500   NaN        S  \n",
       "..     ...               ...      ...   ...      ...  \n",
       "886      0            211536  13.0000   NaN        S  \n",
       "887      0            112053  30.0000   B42        S  \n",
       "888      2        W./C. 6607  23.4500   NaN        S  \n",
       "889      0            111369  30.0000  C148        C  \n",
       "890      0            370376   7.7500   NaN        Q  \n",
       "\n",
       "[891 rows x 12 columns]"
      ]
     },
     "execution_count": 7,
     "metadata": {},
     "output_type": "execute_result"
    }
   ],
   "source": [
    "train_data"
   ]
  },
  {
   "cell_type": "markdown",
   "id": "b3a2ca6c",
   "metadata": {
    "papermill": {
     "duration": 0.048552,
     "end_time": "2021-11-11T06:00:53.601639",
     "exception": false,
     "start_time": "2021-11-11T06:00:53.553087",
     "status": "completed"
    },
    "tags": []
   },
   "source": [
    "**Inspecting features that affect the results**"
   ]
  },
  {
   "cell_type": "code",
   "execution_count": 8,
   "id": "83ff5bab",
   "metadata": {
    "execution": {
     "iopub.execute_input": "2021-11-11T06:00:53.709920Z",
     "iopub.status.busy": "2021-11-11T06:00:53.709290Z",
     "iopub.status.idle": "2021-11-11T06:00:53.711655Z",
     "shell.execute_reply": "2021-11-11T06:00:53.712125Z",
     "shell.execute_reply.started": "2021-11-11T05:58:28.852397Z"
    },
    "papermill": {
     "duration": 0.061661,
     "end_time": "2021-11-11T06:00:53.712317",
     "exception": false,
     "start_time": "2021-11-11T06:00:53.650656",
     "status": "completed"
    },
    "tags": []
   },
   "outputs": [
    {
     "name": "stdout",
     "output_type": "stream",
     "text": [
      "% of people who emarked from S who survived: 0.33695652173913043\n"
     ]
    }
   ],
   "source": [
    "emb = train_data.loc[train_data.Embarked == 'S'][\"Survived\"]\n",
    "rate_emb = sum(emb)/len(emb)\n",
    "\n",
    "print(\"% of people who emarked from S who survived:\",rate_emb)"
   ]
  },
  {
   "cell_type": "code",
   "execution_count": 9,
   "id": "bca939c5",
   "metadata": {
    "execution": {
     "iopub.execute_input": "2021-11-11T06:00:53.818504Z",
     "iopub.status.busy": "2021-11-11T06:00:53.817480Z",
     "iopub.status.idle": "2021-11-11T06:00:53.822065Z",
     "shell.execute_reply": "2021-11-11T06:00:53.821564Z",
     "shell.execute_reply.started": "2021-11-11T05:58:28.860923Z"
    },
    "papermill": {
     "duration": 0.060742,
     "end_time": "2021-11-11T06:00:53.822222",
     "exception": false,
     "start_time": "2021-11-11T06:00:53.761480",
     "status": "completed"
    },
    "tags": []
   },
   "outputs": [
    {
     "name": "stdout",
     "output_type": "stream",
     "text": [
      "% of women who survived: 0.7420382165605095\n"
     ]
    }
   ],
   "source": [
    "women = train_data.loc[train_data.Sex == 'female'][\"Survived\"]\n",
    "rate_women = sum(women)/len(women)\n",
    "\n",
    "print(\"% of women who survived:\", rate_women)"
   ]
  },
  {
   "cell_type": "code",
   "execution_count": 10,
   "id": "984afae5",
   "metadata": {
    "execution": {
     "iopub.execute_input": "2021-11-11T06:00:53.930350Z",
     "iopub.status.busy": "2021-11-11T06:00:53.929675Z",
     "iopub.status.idle": "2021-11-11T06:00:53.934816Z",
     "shell.execute_reply": "2021-11-11T06:00:53.933995Z",
     "shell.execute_reply.started": "2021-11-11T05:58:28.871845Z"
    },
    "papermill": {
     "duration": 0.061416,
     "end_time": "2021-11-11T06:00:53.934976",
     "exception": false,
     "start_time": "2021-11-11T06:00:53.873560",
     "status": "completed"
    },
    "tags": []
   },
   "outputs": [
    {
     "name": "stdout",
     "output_type": "stream",
     "text": [
      "% of people who emarked from S who survived: 0.33695652173913043\n"
     ]
    }
   ],
   "source": [
    "emb = train_data.loc[train_data.Embarked == 'S'][\"Survived\"]\n",
    "rate_emb = sum(emb)/len(emb)\n",
    "\n",
    "print(\"% of people who emarked from S who survived:\",rate_emb)"
   ]
  },
  {
   "cell_type": "code",
   "execution_count": 11,
   "id": "9be79649",
   "metadata": {
    "execution": {
     "iopub.execute_input": "2021-11-11T06:00:54.043501Z",
     "iopub.status.busy": "2021-11-11T06:00:54.042807Z",
     "iopub.status.idle": "2021-11-11T06:00:54.047738Z",
     "shell.execute_reply": "2021-11-11T06:00:54.047207Z",
     "shell.execute_reply.started": "2021-11-11T05:58:28.884116Z"
    },
    "papermill": {
     "duration": 0.061465,
     "end_time": "2021-11-11T06:00:54.047896",
     "exception": false,
     "start_time": "2021-11-11T06:00:53.986431",
     "status": "completed"
    },
    "tags": []
   },
   "outputs": [
    {
     "name": "stdout",
     "output_type": "stream",
     "text": [
      "% of people who emarked from C who survived: 0.5535714285714286\n"
     ]
    }
   ],
   "source": [
    "emb = train_data.loc[train_data.Embarked == 'C'][\"Survived\"]\n",
    "rate_emb = sum(emb)/len(emb)\n",
    "\n",
    "print(\"% of people who emarked from C who survived:\",rate_emb)"
   ]
  },
  {
   "cell_type": "code",
   "execution_count": 12,
   "id": "f9f128b4",
   "metadata": {
    "execution": {
     "iopub.execute_input": "2021-11-11T06:00:54.153225Z",
     "iopub.status.busy": "2021-11-11T06:00:54.152575Z",
     "iopub.status.idle": "2021-11-11T06:00:54.159291Z",
     "shell.execute_reply": "2021-11-11T06:00:54.160241Z",
     "shell.execute_reply.started": "2021-11-11T05:58:28.895571Z"
    },
    "papermill": {
     "duration": 0.061863,
     "end_time": "2021-11-11T06:00:54.160540",
     "exception": false,
     "start_time": "2021-11-11T06:00:54.098677",
     "status": "completed"
    },
    "tags": []
   },
   "outputs": [
    {
     "name": "stdout",
     "output_type": "stream",
     "text": [
      "% of people who emarked from Q who survived: 0.38961038961038963\n"
     ]
    }
   ],
   "source": [
    "emb = train_data.loc[train_data.Embarked == 'Q'][\"Survived\"]\n",
    "rate_emb = sum(emb)/len(emb)\n",
    "\n",
    "print(\"% of people who emarked from Q who survived:\",rate_emb)"
   ]
  },
  {
   "cell_type": "code",
   "execution_count": 13,
   "id": "de19a51d",
   "metadata": {
    "execution": {
     "iopub.execute_input": "2021-11-11T06:00:54.267340Z",
     "iopub.status.busy": "2021-11-11T06:00:54.266566Z",
     "iopub.status.idle": "2021-11-11T06:00:54.273509Z",
     "shell.execute_reply": "2021-11-11T06:00:54.274245Z",
     "shell.execute_reply.started": "2021-11-11T05:58:28.908415Z"
    },
    "papermill": {
     "duration": 0.061775,
     "end_time": "2021-11-11T06:00:54.274460",
     "exception": false,
     "start_time": "2021-11-11T06:00:54.212685",
     "status": "completed"
    },
    "tags": []
   },
   "outputs": [
    {
     "name": "stdout",
     "output_type": "stream",
     "text": [
      "% of 1st class ticketers who survived: 0.6296296296296297\n"
     ]
    }
   ],
   "source": [
    "Status = train_data.loc[train_data.Pclass == 1][\"Survived\"]\n",
    "rate_status = sum(Status)/len(Status)\n",
    "print(\"% of 1st class ticketers who survived:\", rate_status)"
   ]
  },
  {
   "cell_type": "markdown",
   "id": "42188fe7",
   "metadata": {
    "papermill": {
     "duration": 0.050626,
     "end_time": "2021-11-11T06:00:54.376977",
     "exception": false,
     "start_time": "2021-11-11T06:00:54.326351",
     "status": "completed"
    },
    "tags": []
   },
   "source": [
    "**Visualization**"
   ]
  },
  {
   "cell_type": "code",
   "execution_count": 14,
   "id": "65d6c086",
   "metadata": {
    "execution": {
     "iopub.execute_input": "2021-11-11T06:00:54.481298Z",
     "iopub.status.busy": "2021-11-11T06:00:54.480607Z",
     "iopub.status.idle": "2021-11-11T06:00:55.367112Z",
     "shell.execute_reply": "2021-11-11T06:00:55.367653Z",
     "shell.execute_reply.started": "2021-11-11T05:58:28.915802Z"
    },
    "papermill": {
     "duration": 0.940196,
     "end_time": "2021-11-11T06:00:55.367828",
     "exception": false,
     "start_time": "2021-11-11T06:00:54.427632",
     "status": "completed"
    },
    "tags": []
   },
   "outputs": [
    {
     "data": {
      "text/plain": [
       "Text(0.5, 1.0, 'Male')"
      ]
     },
     "execution_count": 14,
     "metadata": {},
     "output_type": "execute_result"
    },
    {
     "data": {
      "image/png": "[encoded data removed]",
      "text/plain": [
       "<Figure size 1080x432 with 2 Axes>"
      ]
     },
     "metadata": {
      "needs_background": "light"
     },
     "output_type": "display_data"
    }
   ],
   "source": [
    "survived = 'survived'\n",
    "not_survived = 'not survived'\n",
    "fig, axes = plt.subplots(nrows=1, ncols=2,figsize=(15, 6))\n",
    "women = train_data[train_data['Sex']=='female']\n",
    "men = train_data[train_data['Sex']=='male']\n",
    "ax = sns.histplot(women[women['Survived']==1].Age.dropna(),color = 'orange', bins=18, label = survived, ax = axes[0], kde =True)\n",
    "ax = sns.histplot(women[women['Survived']==0].Age.dropna(), bins=40, label = not_survived, ax = axes[0], kde =True)\n",
    "ax.legend()\n",
    "ax.set_title('Female')\n",
    "ax = sns.histplot(men[men['Survived']==1].Age.dropna(),color = 'orange', bins=18, label = survived, ax = axes[1], kde =True)\n",
    "ax = sns.histplot(men[men['Survived']==0].Age.dropna(), bins=40, label = not_survived, ax = axes[1], kde = True)\n",
    "ax.legend()\n",
    "ax.set_title('Male')\n"
   ]
  },
  {
   "cell_type": "code",
   "execution_count": 15,
   "id": "b7e48446",
   "metadata": {
    "execution": {
     "iopub.execute_input": "2021-11-11T06:00:55.478621Z",
     "iopub.status.busy": "2021-11-11T06:00:55.477950Z",
     "iopub.status.idle": "2021-11-11T06:00:55.778395Z",
     "shell.execute_reply": "2021-11-11T06:00:55.777751Z",
     "shell.execute_reply.started": "2021-11-11T05:58:29.763262Z"
    },
    "papermill": {
     "duration": 0.357982,
     "end_time": "2021-11-11T06:00:55.778556",
     "exception": false,
     "start_time": "2021-11-11T06:00:55.420574",
     "status": "completed"
    },
    "tags": []
   },
   "outputs": [
    {
     "data": {
      "text/plain": [
       "<AxesSubplot:xlabel='Pclass', ylabel='Survived'>"
      ]
     },
     "execution_count": 15,
     "metadata": {},
     "output_type": "execute_result"
    },
    {
     "data": {
      "image/png": "[encoded data removed]",
      "text/plain": [
       "<Figure size 432x288 with 1 Axes>"
      ]
     },
     "metadata": {
      "needs_background": "light"
     },
     "output_type": "display_data"
    }
   ],
   "source": [
    "sns.barplot(x='Pclass', y='Survived',data=train_data)"
   ]
  },
  {
   "cell_type": "code",
   "execution_count": 16,
   "id": "7ee23e9e",
   "metadata": {
    "execution": {
     "iopub.execute_input": "2021-11-11T06:00:55.891716Z",
     "iopub.status.busy": "2021-11-11T06:00:55.891066Z",
     "iopub.status.idle": "2021-11-11T06:00:55.904593Z",
     "shell.execute_reply": "2021-11-11T06:00:55.905118Z",
     "shell.execute_reply.started": "2021-11-11T05:58:30.059120Z"
    },
    "papermill": {
     "duration": 0.070913,
     "end_time": "2021-11-11T06:00:55.905307",
     "exception": false,
     "start_time": "2021-11-11T06:00:55.834394",
     "status": "completed"
    },
    "tags": []
   },
   "outputs": [
    {
     "data": {
      "text/plain": [
       "1    537\n",
       "0    354\n",
       "Name: not_alone, dtype: int64"
      ]
     },
     "execution_count": 16,
     "metadata": {},
     "output_type": "execute_result"
    }
   ],
   "source": [
    "data = [train_data, test_data]\n",
    "for dataset in data:\n",
    "    dataset['relatives'] = dataset['SibSp']+ dataset['Parch']\n",
    "    dataset.loc[dataset['relatives']>0,'not_alone'] = 0\n",
    "    dataset.loc[dataset['relatives'] == 0, 'not_alone'] = 1\n",
    "    dataset['not_alone'] = dataset['not_alone'].astype(int)\n",
    "train_data['not_alone'].value_counts()"
   ]
  },
  {
   "cell_type": "code",
   "execution_count": 17,
   "id": "0364a300",
   "metadata": {
    "execution": {
     "iopub.execute_input": "2021-11-11T06:00:56.018604Z",
     "iopub.status.busy": "2021-11-11T06:00:56.017863Z",
     "iopub.status.idle": "2021-11-11T06:00:56.500370Z",
     "shell.execute_reply": "2021-11-11T06:00:56.500879Z",
     "shell.execute_reply.started": "2021-11-11T05:58:30.075317Z"
    },
    "papermill": {
     "duration": 0.54123,
     "end_time": "2021-11-11T06:00:56.501050",
     "exception": false,
     "start_time": "2021-11-11T06:00:55.959820",
     "status": "completed"
    },
    "tags": []
   },
   "outputs": [
    {
     "data": {
      "image/png": "[encoded data removed]",
      "text/plain": [
       "<Figure size 900x360 with 1 Axes>"
      ]
     },
     "metadata": {
      "needs_background": "light"
     },
     "output_type": "display_data"
    }
   ],
   "source": [
    "axes = sns.catplot(x =\"relatives\",y=\"Survived\", data=train_data,aspect =2.5,kind = \"violin\")"
   ]
  },
  {
   "cell_type": "code",
   "execution_count": 18,
   "id": "5ae54951",
   "metadata": {
    "execution": {
     "iopub.execute_input": "2021-11-11T06:00:56.616409Z",
     "iopub.status.busy": "2021-11-11T06:00:56.615627Z",
     "iopub.status.idle": "2021-11-11T06:00:57.214638Z",
     "shell.execute_reply": "2021-11-11T06:00:57.214016Z",
     "shell.execute_reply.started": "2021-11-11T05:58:30.551647Z"
    },
    "papermill": {
     "duration": 0.657669,
     "end_time": "2021-11-11T06:00:57.214775",
     "exception": false,
     "start_time": "2021-11-11T06:00:56.557106",
     "status": "completed"
    },
    "tags": []
   },
   "outputs": [
    {
     "data": {
      "image/png": "[encoded data removed]",
      "text/plain": [
       "<Figure size 900x360 with 1 Axes>"
      ]
     },
     "metadata": {
      "needs_background": "light"
     },
     "output_type": "display_data"
    }
   ],
   "source": [
    "axes = sns.catplot(x =\"relatives\",y=\"Survived\", data=train_data,aspect =2.5,kind = \"point\")"
   ]
  },
  {
   "cell_type": "markdown",
   "id": "41b68699",
   "metadata": {
    "papermill": {
     "duration": 0.056366,
     "end_time": "2021-11-11T06:00:57.328002",
     "exception": false,
     "start_time": "2021-11-11T06:00:57.271636",
     "status": "completed"
    },
    "tags": []
   },
   "source": [
    "**Dropping columns**"
   ]
  },
  {
   "cell_type": "code",
   "execution_count": 19,
   "id": "90b90c92",
   "metadata": {
    "execution": {
     "iopub.execute_input": "2021-11-11T06:00:57.447590Z",
     "iopub.status.busy": "2021-11-11T06:00:57.446844Z",
     "iopub.status.idle": "2021-11-11T06:00:57.448870Z",
     "shell.execute_reply": "2021-11-11T06:00:57.449397Z",
     "shell.execute_reply.started": "2021-11-11T05:58:31.145586Z"
    },
    "papermill": {
     "duration": 0.064918,
     "end_time": "2021-11-11T06:00:57.449573",
     "exception": false,
     "start_time": "2021-11-11T06:00:57.384655",
     "status": "completed"
    },
    "tags": []
   },
   "outputs": [],
   "source": [
    "train_data = train_data.drop(['Name'], axis =1)"
   ]
  },
  {
   "cell_type": "code",
   "execution_count": 20,
   "id": "973e2ef4",
   "metadata": {
    "execution": {
     "iopub.execute_input": "2021-11-11T06:00:57.567890Z",
     "iopub.status.busy": "2021-11-11T06:00:57.567266Z",
     "iopub.status.idle": "2021-11-11T06:00:57.570710Z",
     "shell.execute_reply": "2021-11-11T06:00:57.571247Z",
     "shell.execute_reply.started": "2021-11-11T05:58:31.152158Z"
    },
    "papermill": {
     "duration": 0.064399,
     "end_time": "2021-11-11T06:00:57.571414",
     "exception": false,
     "start_time": "2021-11-11T06:00:57.507015",
     "status": "completed"
    },
    "tags": []
   },
   "outputs": [],
   "source": [
    "del test_data['Name']"
   ]
  },
  {
   "cell_type": "code",
   "execution_count": 21,
   "id": "9c643b2b",
   "metadata": {
    "execution": {
     "iopub.execute_input": "2021-11-11T06:00:57.687984Z",
     "iopub.status.busy": "2021-11-11T06:00:57.687328Z",
     "iopub.status.idle": "2021-11-11T06:00:57.690706Z",
     "shell.execute_reply": "2021-11-11T06:00:57.691399Z",
     "shell.execute_reply.started": "2021-11-11T05:58:31.164154Z"
    },
    "papermill": {
     "duration": 0.063325,
     "end_time": "2021-11-11T06:00:57.691579",
     "exception": false,
     "start_time": "2021-11-11T06:00:57.628254",
     "status": "completed"
    },
    "tags": []
   },
   "outputs": [],
   "source": [
    "del test_data['Cabin']"
   ]
  },
  {
   "cell_type": "code",
   "execution_count": 22,
   "id": "e5158353",
   "metadata": {
    "execution": {
     "iopub.execute_input": "2021-11-11T06:00:57.810672Z",
     "iopub.status.busy": "2021-11-11T06:00:57.809877Z",
     "iopub.status.idle": "2021-11-11T06:00:57.813616Z",
     "shell.execute_reply": "2021-11-11T06:00:57.814179Z",
     "shell.execute_reply.started": "2021-11-11T05:58:31.176606Z"
    },
    "papermill": {
     "duration": 0.065742,
     "end_time": "2021-11-11T06:00:57.814347",
     "exception": false,
     "start_time": "2021-11-11T06:00:57.748605",
     "status": "completed"
    },
    "tags": []
   },
   "outputs": [],
   "source": [
    "del test_data['Ticket']"
   ]
  },
  {
   "cell_type": "code",
   "execution_count": 23,
   "id": "4ac97c90",
   "metadata": {
    "execution": {
     "iopub.execute_input": "2021-11-11T06:00:57.933651Z",
     "iopub.status.busy": "2021-11-11T06:00:57.932901Z",
     "iopub.status.idle": "2021-11-11T06:00:57.936750Z",
     "shell.execute_reply": "2021-11-11T06:00:57.937325Z",
     "shell.execute_reply.started": "2021-11-11T05:58:31.183857Z"
    },
    "papermill": {
     "duration": 0.065198,
     "end_time": "2021-11-11T06:00:57.937495",
     "exception": false,
     "start_time": "2021-11-11T06:00:57.872297",
     "status": "completed"
    },
    "tags": []
   },
   "outputs": [],
   "source": [
    "del train_data['Ticket']"
   ]
  },
  {
   "cell_type": "code",
   "execution_count": 24,
   "id": "dab34a41",
   "metadata": {
    "execution": {
     "iopub.execute_input": "2021-11-11T06:00:58.057740Z",
     "iopub.status.busy": "2021-11-11T06:00:58.056746Z",
     "iopub.status.idle": "2021-11-11T06:00:58.059464Z",
     "shell.execute_reply": "2021-11-11T06:00:58.058868Z",
     "shell.execute_reply.started": "2021-11-11T05:58:31.192360Z"
    },
    "papermill": {
     "duration": 0.064202,
     "end_time": "2021-11-11T06:00:58.059619",
     "exception": false,
     "start_time": "2021-11-11T06:00:57.995417",
     "status": "completed"
    },
    "tags": []
   },
   "outputs": [],
   "source": [
    "del train_data['Cabin']"
   ]
  },
  {
   "cell_type": "code",
   "execution_count": 25,
   "id": "762b2ead",
   "metadata": {
    "execution": {
     "iopub.execute_input": "2021-11-11T06:00:58.185563Z",
     "iopub.status.busy": "2021-11-11T06:00:58.178998Z",
     "iopub.status.idle": "2021-11-11T06:00:58.189482Z",
     "shell.execute_reply": "2021-11-11T06:00:58.190144Z",
     "shell.execute_reply.started": "2021-11-11T05:58:31.201564Z"
    },
    "papermill": {
     "duration": 0.074496,
     "end_time": "2021-11-11T06:00:58.190334",
     "exception": false,
     "start_time": "2021-11-11T06:00:58.115838",
     "status": "completed"
    },
    "tags": []
   },
   "outputs": [
    {
     "name": "stdout",
     "output_type": "stream",
     "text": [
      "<class 'pandas.core.frame.DataFrame'>\n",
      "RangeIndex: 418 entries, 0 to 417\n",
      "Data columns (total 10 columns):\n",
      " #   Column       Non-Null Count  Dtype  \n",
      "---  ------       --------------  -----  \n",
      " 0   PassengerId  418 non-null    int64  \n",
      " 1   Pclass       418 non-null    int64  \n",
      " 2   Sex          418 non-null    object \n",
      " 3   Age          332 non-null    float64\n",
      " 4   SibSp        418 non-null    int64  \n",
      " 5   Parch        418 non-null    int64  \n",
      " 6   Fare         417 non-null    float64\n",
      " 7   Embarked     418 non-null    object \n",
      " 8   relatives    418 non-null    int64  \n",
      " 9   not_alone    418 non-null    int64  \n",
      "dtypes: float64(2), int64(6), object(2)\n",
      "memory usage: 32.8+ KB\n"
     ]
    }
   ],
   "source": [
    "test_data.info()"
   ]
  },
  {
   "cell_type": "code",
   "execution_count": 26,
   "id": "06289f87",
   "metadata": {
    "execution": {
     "iopub.execute_input": "2021-11-11T06:00:58.310297Z",
     "iopub.status.busy": "2021-11-11T06:00:58.308041Z",
     "iopub.status.idle": "2021-11-11T06:00:58.313475Z",
     "shell.execute_reply": "2021-11-11T06:00:58.314044Z",
     "shell.execute_reply.started": "2021-11-11T05:58:31.219418Z"
    },
    "papermill": {
     "duration": 0.066631,
     "end_time": "2021-11-11T06:00:58.314234",
     "exception": false,
     "start_time": "2021-11-11T06:00:58.247603",
     "status": "completed"
    },
    "tags": []
   },
   "outputs": [],
   "source": [
    "train_data =train_data.drop(['PassengerId'], axis =1)"
   ]
  },
  {
   "cell_type": "markdown",
   "id": "8d1810ec",
   "metadata": {
    "papermill": {
     "duration": 0.057159,
     "end_time": "2021-11-11T06:00:58.428666",
     "exception": false,
     "start_time": "2021-11-11T06:00:58.371507",
     "status": "completed"
    },
    "tags": []
   },
   "source": [
    "**Filling Missing Values**"
   ]
  },
  {
   "cell_type": "code",
   "execution_count": 27,
   "id": "57a83d58",
   "metadata": {
    "execution": {
     "iopub.execute_input": "2021-11-11T06:00:58.543431Z",
     "iopub.status.busy": "2021-11-11T06:00:58.542780Z",
     "iopub.status.idle": "2021-11-11T06:00:58.557446Z",
     "shell.execute_reply": "2021-11-11T06:00:58.557904Z",
     "shell.execute_reply.started": "2021-11-11T05:58:31.226670Z"
    },
    "papermill": {
     "duration": 0.073968,
     "end_time": "2021-11-11T06:00:58.558071",
     "exception": false,
     "start_time": "2021-11-11T06:00:58.484103",
     "status": "completed"
    },
    "tags": []
   },
   "outputs": [
    {
     "data": {
      "text/plain": [
       "0"
      ]
     },
     "execution_count": 27,
     "metadata": {},
     "output_type": "execute_result"
    }
   ],
   "source": [
    "data = [train_data,test_data]\n",
    "for dataset in data:\n",
    "    mean = train_data[\"Age\"].mean()\n",
    "    std = train_data[\"Age\"].std()\n",
    "    is_null = dataset[\"Age\"].isnull().sum()\n",
    "    r_age = np.random.randint(mean - std,mean + std,\n",
    "                              size=is_null)\n",
    "    age_slice = dataset[\"Age\"].copy()\n",
    "    age_slice[np.isnan(age_slice)] = r_age\n",
    "    dataset[\"Age\"] = age_slice\n",
    "    dataset[\"Age\"] = train_data[\"Age\"].astype(int)\n",
    "train_data[\"Age\"].isnull().sum()"
   ]
  },
  {
   "cell_type": "code",
   "execution_count": 28,
   "id": "d09e9f44",
   "metadata": {
    "execution": {
     "iopub.execute_input": "2021-11-11T06:00:58.676771Z",
     "iopub.status.busy": "2021-11-11T06:00:58.673980Z",
     "iopub.status.idle": "2021-11-11T06:00:58.679995Z",
     "shell.execute_reply": "2021-11-11T06:00:58.679477Z",
     "shell.execute_reply.started": "2021-11-11T05:58:31.244117Z"
    },
    "papermill": {
     "duration": 0.065582,
     "end_time": "2021-11-11T06:00:58.680127",
     "exception": false,
     "start_time": "2021-11-11T06:00:58.614545",
     "status": "completed"
    },
    "tags": []
   },
   "outputs": [
    {
     "name": "stdout",
     "output_type": "stream",
     "text": [
      "False\n"
     ]
    }
   ],
   "source": [
    "print (dataset['Embarked'].isnull().values.any())\n"
   ]
  },
  {
   "cell_type": "code",
   "execution_count": 29,
   "id": "705a29fa",
   "metadata": {
    "execution": {
     "iopub.execute_input": "2021-11-11T06:00:58.800092Z",
     "iopub.status.busy": "2021-11-11T06:00:58.796748Z",
     "iopub.status.idle": "2021-11-11T06:00:58.802886Z",
     "shell.execute_reply": "2021-11-11T06:00:58.802199Z",
     "shell.execute_reply.started": "2021-11-11T05:58:31.254090Z"
    },
    "papermill": {
     "duration": 0.065974,
     "end_time": "2021-11-11T06:00:58.803027",
     "exception": false,
     "start_time": "2021-11-11T06:00:58.737053",
     "status": "completed"
    },
    "tags": []
   },
   "outputs": [],
   "source": [
    "common_value = 'S'\n",
    "data = [train_data,test_data]\n",
    "\n",
    "for dataset in data:\n",
    "    dataset[\"Embarked\"]= dataset[\"Embarked\"].fillna(common_value)"
   ]
  },
  {
   "cell_type": "markdown",
   "id": "9ba192ef",
   "metadata": {
    "papermill": {
     "duration": 0.058903,
     "end_time": "2021-11-11T06:00:58.921536",
     "exception": false,
     "start_time": "2021-11-11T06:00:58.862633",
     "status": "completed"
    },
    "tags": []
   },
   "source": [
    "**Numrising the columns**"
   ]
  },
  {
   "cell_type": "code",
   "execution_count": 30,
   "id": "36d39d86",
   "metadata": {
    "execution": {
     "iopub.execute_input": "2021-11-11T06:00:59.044329Z",
     "iopub.status.busy": "2021-11-11T06:00:59.043619Z",
     "iopub.status.idle": "2021-11-11T06:00:59.046811Z",
     "shell.execute_reply": "2021-11-11T06:00:59.047450Z",
     "shell.execute_reply.started": "2021-11-11T05:58:31.266984Z"
    },
    "papermill": {
     "duration": 0.067106,
     "end_time": "2021-11-11T06:00:59.047650",
     "exception": false,
     "start_time": "2021-11-11T06:00:58.980544",
     "status": "completed"
    },
    "tags": []
   },
   "outputs": [],
   "source": [
    "Sex1 = {'male': 1,'female': 0}\n",
    "data = [train_data,test_data]\n",
    "for dataset in data:\n",
    "    dataset['Sex'] = dataset['Sex'].map(Sex1)"
   ]
  },
  {
   "cell_type": "code",
   "execution_count": 31,
   "id": "6e0374cf",
   "metadata": {
    "execution": {
     "iopub.execute_input": "2021-11-11T06:00:59.167531Z",
     "iopub.status.busy": "2021-11-11T06:00:59.166847Z",
     "iopub.status.idle": "2021-11-11T06:00:59.173908Z",
     "shell.execute_reply": "2021-11-11T06:00:59.174502Z",
     "shell.execute_reply.started": "2021-11-11T05:58:31.279137Z"
    },
    "papermill": {
     "duration": 0.068895,
     "end_time": "2021-11-11T06:00:59.174670",
     "exception": false,
     "start_time": "2021-11-11T06:00:59.105775",
     "status": "completed"
    },
    "tags": []
   },
   "outputs": [],
   "source": [
    "e = {'C':1,'S':2,'Q':3}\n",
    "data =[train_data,test_data]\n",
    "for dataset in data:\n",
    "    dataset['Embarked'] = dataset['Embarked'].map(e)\n",
    "    dataset['Embarked'] = dataset['Embarked'].astype(int)"
   ]
  },
  {
   "cell_type": "code",
   "execution_count": 32,
   "id": "b7e9d9b3",
   "metadata": {
    "execution": {
     "iopub.execute_input": "2021-11-11T06:00:59.293383Z",
     "iopub.status.busy": "2021-11-11T06:00:59.292731Z",
     "iopub.status.idle": "2021-11-11T06:00:59.304702Z",
     "shell.execute_reply": "2021-11-11T06:00:59.305480Z",
     "shell.execute_reply.started": "2021-11-11T05:58:31.290724Z"
    },
    "papermill": {
     "duration": 0.072938,
     "end_time": "2021-11-11T06:00:59.305696",
     "exception": false,
     "start_time": "2021-11-11T06:00:59.232758",
     "status": "completed"
    },
    "tags": []
   },
   "outputs": [
    {
     "name": "stdout",
     "output_type": "stream",
     "text": [
      "<class 'pandas.core.frame.DataFrame'>\n",
      "RangeIndex: 418 entries, 0 to 417\n",
      "Data columns (total 10 columns):\n",
      " #   Column       Non-Null Count  Dtype  \n",
      "---  ------       --------------  -----  \n",
      " 0   PassengerId  418 non-null    int64  \n",
      " 1   Pclass       418 non-null    int64  \n",
      " 2   Sex          418 non-null    int64  \n",
      " 3   Age          418 non-null    int64  \n",
      " 4   SibSp        418 non-null    int64  \n",
      " 5   Parch        418 non-null    int64  \n",
      " 6   Fare         417 non-null    float64\n",
      " 7   Embarked     418 non-null    int64  \n",
      " 8   relatives    418 non-null    int64  \n",
      " 9   not_alone    418 non-null    int64  \n",
      "dtypes: float64(1), int64(9)\n",
      "memory usage: 32.8 KB\n"
     ]
    }
   ],
   "source": [
    "test_data.info()"
   ]
  },
  {
   "cell_type": "code",
   "execution_count": 33,
   "id": "c02503f7",
   "metadata": {
    "execution": {
     "iopub.execute_input": "2021-11-11T06:00:59.431685Z",
     "iopub.status.busy": "2021-11-11T06:00:59.430722Z",
     "iopub.status.idle": "2021-11-11T06:00:59.449383Z",
     "shell.execute_reply": "2021-11-11T06:00:59.449920Z",
     "shell.execute_reply.started": "2021-11-11T05:58:31.306167Z"
    },
    "papermill": {
     "duration": 0.08528,
     "end_time": "2021-11-11T06:00:59.450085",
     "exception": false,
     "start_time": "2021-11-11T06:00:59.364805",
     "status": "completed"
    },
    "tags": []
   },
   "outputs": [
    {
     "data": {
      "text/plain": [
       "4    161\n",
       "6    161\n",
       "5    154\n",
       "3    127\n",
       "2    117\n",
       "1    103\n",
       "0     68\n",
       "Name: Age, dtype: int64"
      ]
     },
     "execution_count": 33,
     "metadata": {},
     "output_type": "execute_result"
    }
   ],
   "source": [
    "data = [train_data,test_data]\n",
    "for dataset in data:\n",
    "    dataset['Age'] = dataset['Age'].astype(int) \n",
    "    dataset.loc[dataset['Age'] <= 11, 'Age'] = 0\n",
    "    dataset.loc[(dataset['Age'] > 11) & (dataset['Age'] <= 18), 'Age'] = 1 \n",
    "    dataset.loc[(dataset['Age'] > 18) & (dataset['Age'] <= 22), 'Age'] = 2\n",
    "    dataset.loc[(dataset['Age'] > 22) & (dataset['Age'] <= 27), 'Age'] = 3\n",
    "    dataset.loc[(dataset['Age'] > 27) & (dataset['Age'] <= 33), 'Age'] = 4\n",
    "    dataset.loc[(dataset['Age'] > 33) & (dataset['Age'] <= 40), 'Age'] = 5\n",
    "    dataset.loc[(dataset['Age'] > 40) & (dataset['Age'] <= 66), 'Age'] = 6\n",
    "    dataset.loc[ dataset['Age'] > 66, 'Age'] = 6\n",
    "train_data['Age'].value_counts()"
   ]
  },
  {
   "cell_type": "code",
   "execution_count": 34,
   "id": "c89365d3",
   "metadata": {
    "execution": {
     "iopub.execute_input": "2021-11-11T06:00:59.577396Z",
     "iopub.status.busy": "2021-11-11T06:00:59.572736Z",
     "iopub.status.idle": "2021-11-11T06:00:59.579915Z",
     "shell.execute_reply": "2021-11-11T06:00:59.579419Z",
     "shell.execute_reply.started": "2021-11-11T05:58:31.333159Z"
    },
    "papermill": {
     "duration": 0.071516,
     "end_time": "2021-11-11T06:00:59.580051",
     "exception": false,
     "start_time": "2021-11-11T06:00:59.508535",
     "status": "completed"
    },
    "tags": []
   },
   "outputs": [],
   "source": [
    "data = [train_data,test_data]\n",
    "for dataset in data:\n",
    "    dataset['Fare'] = dataset['Fare'].fillna(0)\n",
    "    dataset['Fare'] = dataset['Fare'].astype(int)\n",
    "    "
   ]
  },
  {
   "cell_type": "code",
   "execution_count": 35,
   "id": "aa1af83c",
   "metadata": {
    "execution": {
     "iopub.execute_input": "2021-11-11T06:00:59.700527Z",
     "iopub.status.busy": "2021-11-11T06:00:59.699869Z",
     "iopub.status.idle": "2021-11-11T06:00:59.715071Z",
     "shell.execute_reply": "2021-11-11T06:00:59.715598Z",
     "shell.execute_reply.started": "2021-11-11T05:58:31.343193Z"
    },
    "papermill": {
     "duration": 0.076939,
     "end_time": "2021-11-11T06:00:59.715779",
     "exception": false,
     "start_time": "2021-11-11T06:00:59.638840",
     "status": "completed"
    },
    "tags": []
   },
   "outputs": [],
   "source": [
    "data = [train_data,test_data]\n",
    "for dataset in data:\n",
    "    dataset['Fare'] = dataset['Fare'].astype(int)\n",
    "    dataset.loc[ dataset['Fare']<=7.91, 'Fare'] = 0\n",
    "    dataset.loc[(dataset['Fare'] > 7.91) & (dataset['Fare'] <= 14.454), 'Fare'] = 1\n",
    "    dataset.loc[(dataset['Fare'] > 14.454) & (dataset['Fare'] <= 31), 'Fare']   = 2\n",
    "    dataset.loc[(dataset['Fare'] > 31) & (dataset['Fare'] <= 99), 'Fare']   = 3\n",
    "    dataset.loc[(dataset['Fare'] > 99) & (dataset['Fare'] <= 250), 'Fare']   = 4\n",
    "    dataset.loc[ dataset['Fare'] > 250, 'Fare'] = 5"
   ]
  },
  {
   "cell_type": "markdown",
   "id": "2ee43419",
   "metadata": {
    "papermill": {
     "duration": 0.058909,
     "end_time": "2021-11-11T06:00:59.834350",
     "exception": false,
     "start_time": "2021-11-11T06:00:59.775441",
     "status": "completed"
    },
    "tags": []
   },
   "source": [
    "**Dropping Data**"
   ]
  },
  {
   "cell_type": "code",
   "execution_count": 36,
   "id": "55df9257",
   "metadata": {
    "execution": {
     "iopub.execute_input": "2021-11-11T06:00:59.956281Z",
     "iopub.status.busy": "2021-11-11T06:00:59.955636Z",
     "iopub.status.idle": "2021-11-11T06:00:59.968133Z",
     "shell.execute_reply": "2021-11-11T06:00:59.967125Z",
     "shell.execute_reply.started": "2021-11-11T05:58:31.362532Z"
    },
    "papermill": {
     "duration": 0.074265,
     "end_time": "2021-11-11T06:00:59.968365",
     "exception": false,
     "start_time": "2021-11-11T06:00:59.894100",
     "status": "completed"
    },
    "tags": []
   },
   "outputs": [
    {
     "name": "stdout",
     "output_type": "stream",
     "text": [
      "<class 'pandas.core.frame.DataFrame'>\n",
      "RangeIndex: 891 entries, 0 to 890\n",
      "Data columns (total 10 columns):\n",
      " #   Column     Non-Null Count  Dtype\n",
      "---  ------     --------------  -----\n",
      " 0   Survived   891 non-null    int64\n",
      " 1   Pclass     891 non-null    int64\n",
      " 2   Sex        891 non-null    int64\n",
      " 3   Age        891 non-null    int64\n",
      " 4   SibSp      891 non-null    int64\n",
      " 5   Parch      891 non-null    int64\n",
      " 6   Fare       891 non-null    int64\n",
      " 7   Embarked   891 non-null    int64\n",
      " 8   relatives  891 non-null    int64\n",
      " 9   not_alone  891 non-null    int64\n",
      "dtypes: int64(10)\n",
      "memory usage: 69.7 KB\n"
     ]
    }
   ],
   "source": [
    "train_data.info()"
   ]
  },
  {
   "cell_type": "code",
   "execution_count": 37,
   "id": "34cd225e",
   "metadata": {
    "execution": {
     "iopub.execute_input": "2021-11-11T06:01:00.101148Z",
     "iopub.status.busy": "2021-11-11T06:01:00.093736Z",
     "iopub.status.idle": "2021-11-11T06:01:00.103730Z",
     "shell.execute_reply": "2021-11-11T06:01:00.104378Z",
     "shell.execute_reply.started": "2021-11-11T05:58:31.376546Z"
    },
    "papermill": {
     "duration": 0.076418,
     "end_time": "2021-11-11T06:01:00.104554",
     "exception": false,
     "start_time": "2021-11-11T06:01:00.028136",
     "status": "completed"
    },
    "tags": []
   },
   "outputs": [
    {
     "name": "stdout",
     "output_type": "stream",
     "text": [
      "<class 'pandas.core.frame.DataFrame'>\n",
      "RangeIndex: 418 entries, 0 to 417\n",
      "Data columns (total 10 columns):\n",
      " #   Column       Non-Null Count  Dtype\n",
      "---  ------       --------------  -----\n",
      " 0   PassengerId  418 non-null    int64\n",
      " 1   Pclass       418 non-null    int64\n",
      " 2   Sex          418 non-null    int64\n",
      " 3   Age          418 non-null    int64\n",
      " 4   SibSp        418 non-null    int64\n",
      " 5   Parch        418 non-null    int64\n",
      " 6   Fare         418 non-null    int64\n",
      " 7   Embarked     418 non-null    int64\n",
      " 8   relatives    418 non-null    int64\n",
      " 9   not_alone    418 non-null    int64\n",
      "dtypes: int64(10)\n",
      "memory usage: 32.8 KB\n"
     ]
    }
   ],
   "source": [
    "test_data.info()"
   ]
  },
  {
   "cell_type": "code",
   "execution_count": 38,
   "id": "94849089",
   "metadata": {
    "execution": {
     "iopub.execute_input": "2021-11-11T06:01:00.228877Z",
     "iopub.status.busy": "2021-11-11T06:01:00.227743Z",
     "iopub.status.idle": "2021-11-11T06:01:00.231713Z",
     "shell.execute_reply": "2021-11-11T06:01:00.232260Z",
     "shell.execute_reply.started": "2021-11-11T05:58:31.391164Z"
    },
    "papermill": {
     "duration": 0.068656,
     "end_time": "2021-11-11T06:01:00.232433",
     "exception": false,
     "start_time": "2021-11-11T06:01:00.163777",
     "status": "completed"
    },
    "tags": []
   },
   "outputs": [],
   "source": [
    "X_train = train_data.drop(\"Survived\", axis=1)\n",
    "Y_train = train_data[\"Survived\"]\n",
    "X_test  = test_data.drop(\"PassengerId\", axis=1).copy()"
   ]
  },
  {
   "cell_type": "markdown",
   "id": "f5bb4e12",
   "metadata": {
    "papermill": {
     "duration": 0.0589,
     "end_time": "2021-11-11T06:01:00.349934",
     "exception": false,
     "start_time": "2021-11-11T06:01:00.291034",
     "status": "completed"
    },
    "tags": []
   },
   "source": [
    "**Training**"
   ]
  },
  {
   "cell_type": "code",
   "execution_count": 39,
   "id": "bd356e80",
   "metadata": {
    "execution": {
     "iopub.execute_input": "2021-11-11T06:01:00.471901Z",
     "iopub.status.busy": "2021-11-11T06:01:00.471222Z",
     "iopub.status.idle": "2021-11-11T06:01:00.486422Z",
     "shell.execute_reply": "2021-11-11T06:01:00.485887Z",
     "shell.execute_reply.started": "2021-11-11T05:58:31.399912Z"
    },
    "papermill": {
     "duration": 0.077383,
     "end_time": "2021-11-11T06:01:00.486575",
     "exception": false,
     "start_time": "2021-11-11T06:01:00.409192",
     "status": "completed"
    },
    "tags": []
   },
   "outputs": [
    {
     "name": "stdout",
     "output_type": "stream",
     "text": [
      "79.91\n"
     ]
    }
   ],
   "source": [
    "sgd = linear_model.SGDClassifier(max_iter=5, tol=None)\n",
    "sgd.fit(X_train, Y_train)\n",
    "Y_pred = sgd.predict(X_test)\n",
    "\n",
    "sgd.score(X_train, Y_train)\n",
    "\n",
    "acc_sgd = round(sgd.score(X_train, Y_train) * 100, 2)\n",
    "print(acc_sgd)"
   ]
  },
  {
   "cell_type": "code",
   "execution_count": 40,
   "id": "694f42c7",
   "metadata": {
    "execution": {
     "iopub.execute_input": "2021-11-11T06:01:00.609663Z",
     "iopub.status.busy": "2021-11-11T06:01:00.609022Z",
     "iopub.status.idle": "2021-11-11T06:01:00.899184Z",
     "shell.execute_reply": "2021-11-11T06:01:00.899653Z",
     "shell.execute_reply.started": "2021-11-11T05:58:31.422873Z"
    },
    "papermill": {
     "duration": 0.353278,
     "end_time": "2021-11-11T06:01:00.899826",
     "exception": false,
     "start_time": "2021-11-11T06:01:00.546548",
     "status": "completed"
    },
    "tags": []
   },
   "outputs": [
    {
     "name": "stdout",
     "output_type": "stream",
     "text": [
      "90.68\n"
     ]
    }
   ],
   "source": [
    "random_forest = RandomForestClassifier(n_estimators=100)\n",
    "random_forest.fit(X_train, Y_train)\n",
    "Y_predicttion = random_forest.predict(X_test)\n",
    "\n",
    "random_forest.score(X_train, Y_train)\n",
    "acc_random_forest = round(random_forest.score(X_train, Y_train) * 100, 2)\n",
    "print(acc_random_forest)"
   ]
  },
  {
   "cell_type": "code",
   "execution_count": 41,
   "id": "4f6eaeba",
   "metadata": {
    "execution": {
     "iopub.execute_input": "2021-11-11T06:01:01.024512Z",
     "iopub.status.busy": "2021-11-11T06:01:01.023835Z",
     "iopub.status.idle": "2021-11-11T06:01:01.050297Z",
     "shell.execute_reply": "2021-11-11T06:01:01.050781Z",
     "shell.execute_reply.started": "2021-11-11T05:58:31.721773Z"
    },
    "papermill": {
     "duration": 0.089974,
     "end_time": "2021-11-11T06:01:01.050954",
     "exception": false,
     "start_time": "2021-11-11T06:01:00.960980",
     "status": "completed"
    },
    "tags": []
   },
   "outputs": [
    {
     "name": "stdout",
     "output_type": "stream",
     "text": [
      "80.02\n"
     ]
    }
   ],
   "source": [
    "logreg = LogisticRegression()\n",
    "logreg.fit(X_train, Y_train)\n",
    "\n",
    "Y_pred = logreg.predict(X_test)\n",
    "\n",
    "acc_log = round(logreg.score(X_train, Y_train) * 100, 2)\n",
    "print(acc_log)"
   ]
  },
  {
   "cell_type": "code",
   "execution_count": 42,
   "id": "ddfcc6ee",
   "metadata": {
    "execution": {
     "iopub.execute_input": "2021-11-11T06:01:01.183146Z",
     "iopub.status.busy": "2021-11-11T06:01:01.178634Z",
     "iopub.status.idle": "2021-11-11T06:01:01.243533Z",
     "shell.execute_reply": "2021-11-11T06:01:01.242757Z",
     "shell.execute_reply.started": "2021-11-11T05:58:31.755513Z"
    },
    "papermill": {
     "duration": 0.132057,
     "end_time": "2021-11-11T06:01:01.243730",
     "exception": false,
     "start_time": "2021-11-11T06:01:01.111673",
     "status": "completed"
    },
    "tags": []
   },
   "outputs": [
    {
     "name": "stdout",
     "output_type": "stream",
     "text": [
      "87.21\n"
     ]
    }
   ],
   "source": [
    "knn = KNeighborsClassifier(n_neighbors = 3) \n",
    "knn.fit(X_train, Y_train)  \n",
    "Y_pred = knn.predict(X_test)  \n",
    "acc_knn = round(knn.score(X_train, Y_train) * 100, 2)\n",
    "print(acc_knn)"
   ]
  },
  {
   "cell_type": "code",
   "execution_count": 43,
   "id": "5a06a5c4",
   "metadata": {
    "execution": {
     "iopub.execute_input": "2021-11-11T06:01:01.373920Z",
     "iopub.status.busy": "2021-11-11T06:01:01.373240Z",
     "iopub.status.idle": "2021-11-11T06:01:01.381805Z",
     "shell.execute_reply": "2021-11-11T06:01:01.380993Z",
     "shell.execute_reply.started": "2021-11-11T05:58:31.824446Z"
    },
    "papermill": {
     "duration": 0.076602,
     "end_time": "2021-11-11T06:01:01.381980",
     "exception": false,
     "start_time": "2021-11-11T06:01:01.305378",
     "status": "completed"
    },
    "tags": []
   },
   "outputs": [
    {
     "name": "stdout",
     "output_type": "stream",
     "text": [
      "76.88\n"
     ]
    }
   ],
   "source": [
    "gaussian = GaussianNB() \n",
    "gaussian.fit(X_train, Y_train)\n",
    "Y_pred = gaussian.predict(X_test)  \n",
    "acc_gaussian = round(gaussian.score(X_train, Y_train) * 100, 2)\n",
    "print(acc_gaussian)"
   ]
  },
  {
   "cell_type": "code",
   "execution_count": 44,
   "id": "0ff540ab",
   "metadata": {
    "execution": {
     "iopub.execute_input": "2021-11-11T06:01:01.519035Z",
     "iopub.status.busy": "2021-11-11T06:01:01.514357Z",
     "iopub.status.idle": "2021-11-11T06:01:01.523554Z",
     "shell.execute_reply": "2021-11-11T06:01:01.522971Z",
     "shell.execute_reply.started": "2021-11-11T05:58:31.838162Z"
    },
    "papermill": {
     "duration": 0.0789,
     "end_time": "2021-11-11T06:01:01.523698",
     "exception": false,
     "start_time": "2021-11-11T06:01:01.444798",
     "status": "completed"
    },
    "tags": []
   },
   "outputs": [
    {
     "name": "stdout",
     "output_type": "stream",
     "text": [
      "68.46\n"
     ]
    }
   ],
   "source": [
    "perceptron = Perceptron(max_iter=15)\n",
    "perceptron.fit(X_train, Y_train)\n",
    "\n",
    "Y_pred = perceptron.predict(X_test)\n",
    "\n",
    "acc_perceptron = round(perceptron.score(X_train, Y_train) * 100, 2)\n",
    "print(acc_perceptron)"
   ]
  },
  {
   "cell_type": "code",
   "execution_count": 45,
   "id": "60664bb3",
   "metadata": {
    "execution": {
     "iopub.execute_input": "2021-11-11T06:01:01.662974Z",
     "iopub.status.busy": "2021-11-11T06:01:01.662325Z",
     "iopub.status.idle": "2021-11-11T06:01:01.664754Z",
     "shell.execute_reply": "2021-11-11T06:01:01.665279Z",
     "shell.execute_reply.started": "2021-11-11T05:58:31.852652Z"
    },
    "papermill": {
     "duration": 0.078136,
     "end_time": "2021-11-11T06:01:01.665450",
     "exception": false,
     "start_time": "2021-11-11T06:01:01.587314",
     "status": "completed"
    },
    "tags": []
   },
   "outputs": [
    {
     "name": "stdout",
     "output_type": "stream",
     "text": [
      "80.02\n"
     ]
    }
   ],
   "source": [
    "linear_svc = LinearSVC(dual=False)\n",
    "linear_svc.fit(X_train, Y_train)\n",
    "\n",
    "Y_pred = linear_svc.predict(X_test)\n",
    "\n",
    "acc_linear_svc = round(linear_svc.score(X_train, Y_train) * 100, 2)\n",
    "print(acc_linear_svc )"
   ]
  },
  {
   "cell_type": "code",
   "execution_count": 46,
   "id": "3dae8f18",
   "metadata": {
    "execution": {
     "iopub.execute_input": "2021-11-11T06:01:01.796269Z",
     "iopub.status.busy": "2021-11-11T06:01:01.795469Z",
     "iopub.status.idle": "2021-11-11T06:01:01.804524Z",
     "shell.execute_reply": "2021-11-11T06:01:01.803839Z",
     "shell.execute_reply.started": "2021-11-11T05:58:31.867611Z"
    },
    "papermill": {
     "duration": 0.077549,
     "end_time": "2021-11-11T06:01:01.804668",
     "exception": false,
     "start_time": "2021-11-11T06:01:01.727119",
     "status": "completed"
    },
    "tags": []
   },
   "outputs": [
    {
     "name": "stdout",
     "output_type": "stream",
     "text": [
      "90.68\n"
     ]
    }
   ],
   "source": [
    "decision_tree = DecisionTreeClassifier() \n",
    "decision_tree.fit(X_train, Y_train)  \n",
    "Y_pred = decision_tree.predict(X_test)  \n",
    "acc_decision_tree = round(decision_tree.score(X_train, Y_train) * 100, 2)\n",
    "print(acc_decision_tree)"
   ]
  },
  {
   "cell_type": "code",
   "execution_count": 47,
   "id": "b3fe558c",
   "metadata": {
    "execution": {
     "iopub.execute_input": "2021-11-11T06:01:01.937969Z",
     "iopub.status.busy": "2021-11-11T06:01:01.937291Z",
     "iopub.status.idle": "2021-11-11T06:01:01.939891Z",
     "shell.execute_reply": "2021-11-11T06:01:01.940396Z",
     "shell.execute_reply.started": "2021-11-11T05:58:31.883124Z"
    },
    "papermill": {
     "duration": 0.072496,
     "end_time": "2021-11-11T06:01:01.940576",
     "exception": false,
     "start_time": "2021-11-11T06:01:01.868080",
     "status": "completed"
    },
    "tags": []
   },
   "outputs": [
    {
     "data": {
      "text/plain": [
       "(418,)"
      ]
     },
     "execution_count": 47,
     "metadata": {},
     "output_type": "execute_result"
    }
   ],
   "source": [
    "Final_prediction = decision_tree.predict(X_test)\n",
    "Final_prediction.shape"
   ]
  },
  {
   "cell_type": "markdown",
   "id": "0bc09b32",
   "metadata": {
    "papermill": {
     "duration": 0.062027,
     "end_time": "2021-11-11T06:01:02.064733",
     "exception": false,
     "start_time": "2021-11-11T06:01:02.002706",
     "status": "completed"
    },
    "tags": []
   },
   "source": [
    "**Feature Importance**"
   ]
  },
  {
   "cell_type": "code",
   "execution_count": 48,
   "id": "9a2f4217",
   "metadata": {
    "execution": {
     "iopub.execute_input": "2021-11-11T06:01:02.197312Z",
     "iopub.status.busy": "2021-11-11T06:01:02.195113Z",
     "iopub.status.idle": "2021-11-11T06:01:02.212685Z",
     "shell.execute_reply": "2021-11-11T06:01:02.212041Z",
     "shell.execute_reply.started": "2021-11-11T05:58:31.891408Z"
    },
    "papermill": {
     "duration": 0.086053,
     "end_time": "2021-11-11T06:01:02.212823",
     "exception": false,
     "start_time": "2021-11-11T06:01:02.126770",
     "status": "completed"
    },
    "tags": []
   },
   "outputs": [
    {
     "data": {
      "text/html": [
       "<div>\n",
       "<style scoped>\n",
       "    .dataframe tbody tr th:only-of-type {\n",
       "        vertical-align: middle;\n",
       "    }\n",
       "\n",
       "    .dataframe tbody tr th {\n",
       "        vertical-align: top;\n",
       "    }\n",
       "\n",
       "    .dataframe thead th {\n",
       "        text-align: right;\n",
       "    }\n",
       "</style>\n",
       "<table border=\"1\" class=\"dataframe\">\n",
       "  <thead>\n",
       "    <tr style=\"text-align: right;\">\n",
       "      <th></th>\n",
       "      <th>importance</th>\n",
       "    </tr>\n",
       "    <tr>\n",
       "      <th>feature</th>\n",
       "      <th></th>\n",
       "    </tr>\n",
       "  </thead>\n",
       "  <tbody>\n",
       "    <tr>\n",
       "      <th>Sex</th>\n",
       "      <td>0.348</td>\n",
       "    </tr>\n",
       "    <tr>\n",
       "      <th>Age</th>\n",
       "      <td>0.200</td>\n",
       "    </tr>\n",
       "    <tr>\n",
       "      <th>Pclass</th>\n",
       "      <td>0.121</td>\n",
       "    </tr>\n",
       "    <tr>\n",
       "      <th>Fare</th>\n",
       "      <td>0.119</td>\n",
       "    </tr>\n",
       "    <tr>\n",
       "      <th>relatives</th>\n",
       "      <td>0.067</td>\n",
       "    </tr>\n",
       "    <tr>\n",
       "      <th>Embarked</th>\n",
       "      <td>0.062</td>\n",
       "    </tr>\n",
       "    <tr>\n",
       "      <th>SibSp</th>\n",
       "      <td>0.036</td>\n",
       "    </tr>\n",
       "    <tr>\n",
       "      <th>Parch</th>\n",
       "      <td>0.030</td>\n",
       "    </tr>\n",
       "    <tr>\n",
       "      <th>not_alone</th>\n",
       "      <td>0.016</td>\n",
       "    </tr>\n",
       "  </tbody>\n",
       "</table>\n",
       "</div>"
      ],
      "text/plain": [
       "           importance\n",
       "feature              \n",
       "Sex             0.348\n",
       "Age             0.200\n",
       "Pclass          0.121\n",
       "Fare            0.119\n",
       "relatives       0.067\n",
       "Embarked        0.062\n",
       "SibSp           0.036\n",
       "Parch           0.030\n",
       "not_alone       0.016"
      ]
     },
     "execution_count": 48,
     "metadata": {},
     "output_type": "execute_result"
    }
   ],
   "source": [
    "importances = pd.DataFrame({'feature':X_train.columns,'importance':np.round(random_forest.feature_importances_,3)})\n",
    "importances = importances.sort_values('importance',ascending=False).set_index('feature')\n",
    "importances.head(15)"
   ]
  },
  {
   "cell_type": "markdown",
   "id": "4033311b",
   "metadata": {
    "papermill": {
     "duration": 0.062991,
     "end_time": "2021-11-11T06:01:02.339853",
     "exception": false,
     "start_time": "2021-11-11T06:01:02.276862",
     "status": "completed"
    },
    "tags": []
   },
   "source": [
    "**Cofusion Matrix**\n"
   ]
  },
  {
   "cell_type": "code",
   "execution_count": 49,
   "id": "0603d3e5",
   "metadata": {
    "execution": {
     "iopub.execute_input": "2021-11-11T06:01:02.471409Z",
     "iopub.status.busy": "2021-11-11T06:01:02.470747Z",
     "iopub.status.idle": "2021-11-11T06:01:03.214608Z",
     "shell.execute_reply": "2021-11-11T06:01:03.215205Z",
     "shell.execute_reply.started": "2021-11-11T05:58:31.916199Z"
    },
    "papermill": {
     "duration": 0.812543,
     "end_time": "2021-11-11T06:01:03.215404",
     "exception": false,
     "start_time": "2021-11-11T06:01:02.402861",
     "status": "completed"
    },
    "tags": []
   },
   "outputs": [
    {
     "data": {
      "text/plain": [
       "array([[477,  72],\n",
       "       [100, 242]])"
      ]
     },
     "execution_count": 49,
     "metadata": {},
     "output_type": "execute_result"
    }
   ],
   "source": [
    "from sklearn.model_selection import cross_val_predict\n",
    "from sklearn.metrics import confusion_matrix\n",
    "predictions = cross_val_predict(random_forest, X_train, Y_train, cv=3)\n",
    "confusion_matrix(Y_train, predictions)"
   ]
  },
  {
   "cell_type": "markdown",
   "id": "5de89d89",
   "metadata": {
    "papermill": {
     "duration": 0.063179,
     "end_time": "2021-11-11T06:01:03.343525",
     "exception": false,
     "start_time": "2021-11-11T06:01:03.280346",
     "status": "completed"
    },
    "tags": []
   },
   "source": [
    "***Decision Tree Classifier***\n",
    "\n",
    "\n",
    "The first row is about the not-survived-predictions: **485 passengers were correctly classified as not survived** (called true negatives) **and 64 where wrongly classified as not survived** (false positives).\n",
    "\n",
    "The second row is about the survived-predictions: **93 passengers where wrongly classified as survived** (false negatives) and **249 where correctly classified as survived** (true positives)."
   ]
  },
  {
   "cell_type": "code",
   "execution_count": 50,
   "id": "2319a1c8",
   "metadata": {
    "execution": {
     "iopub.execute_input": "2021-11-11T06:01:03.476791Z",
     "iopub.status.busy": "2021-11-11T06:01:03.475828Z",
     "iopub.status.idle": "2021-11-11T06:01:03.482948Z",
     "shell.execute_reply": "2021-11-11T06:01:03.483756Z",
     "shell.execute_reply.started": "2021-11-11T05:58:32.593907Z"
    },
    "papermill": {
     "duration": 0.076709,
     "end_time": "2021-11-11T06:01:03.483986",
     "exception": false,
     "start_time": "2021-11-11T06:01:03.407277",
     "status": "completed"
    },
    "tags": []
   },
   "outputs": [
    {
     "name": "stdout",
     "output_type": "stream",
     "text": [
      "Output shape: (418, 2)\n",
      "Your submission was successfully saved!\n"
     ]
    }
   ],
   "source": [
    "output = pd.DataFrame({'PassengerId': test_data.PassengerId, 'Survived': Final_prediction})\n",
    "output.to_csv('submission.csv', index=False)\n",
    "print('Output shape:', output.shape)\n",
    "print(\"Your submission was successfully saved!\")"
   ]
  },
  {
   "cell_type": "code",
   "execution_count": null,
   "id": "ceb766ad",
   "metadata": {
    "papermill": {
     "duration": 0.069025,
     "end_time": "2021-11-11T06:01:03.621319",
     "exception": false,
     "start_time": "2021-11-11T06:01:03.552294",
     "status": "completed"
    },
    "tags": []
   },
   "outputs": [],
   "source": []
  }
 ],
 "metadata": {
  "kernelspec": {
   "display_name": "Python 3",
   "language": "python",
   "name": "python3"
  },
  "language_info": {
   "codemirror_mode": {
    "name": "ipython",
    "version": 3
   },
   "file_extension": ".py",
   "mimetype": "text/x-python",
   "name": "python",
   "nbconvert_exporter": "python",
   "pygments_lexer": "ipython3",
   "version": "3.8.8"
  },
  "papermill": {
   "default_parameters": {},
   "duration": 22.202599,
   "end_time": "2021-11-11T06:01:04.394850",
   "environment_variables": {},
   "exception": null,
   "input_path": "__notebook__.ipynb",
   "output_path": "__notebook__.ipynb",
   "parameters": {},
   "start_time": "2021-11-11T06:00:42.192251",
   "version": "2.3.3"
  }
 },
 "nbformat": 4,
 "nbformat_minor": 5
}
